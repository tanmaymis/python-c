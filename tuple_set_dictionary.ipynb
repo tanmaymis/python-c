{
 "cells": [
  {
   "cell_type": "code",
   "execution_count": 1,
   "metadata": {},
   "outputs": [
    {
     "name": "stdout",
     "output_type": "stream",
     "text": [
      "<class 'set'>\n"
     ]
    }
   ],
   "source": [
    "a= set()\n",
    "print(type(a))"
   ]
  },
  {
   "cell_type": "code",
   "execution_count": 2,
   "metadata": {},
   "outputs": [
    {
     "name": "stdout",
     "output_type": "stream",
     "text": [
      "{1, 3}\n"
     ]
    }
   ],
   "source": [
    "my_set = {1,3}\n",
    "print(my_set)"
   ]
  },
  {
   "cell_type": "code",
   "execution_count": 3,
   "metadata": {},
   "outputs": [
    {
     "name": "stdout",
     "output_type": "stream",
     "text": [
      "{1, 2, 3}\n"
     ]
    }
   ],
   "source": [
    "my_set.add(2)\n",
    "print(my_set)"
   ]
  },
  {
   "cell_type": "code",
   "execution_count": 4,
   "metadata": {},
   "outputs": [
    {
     "name": "stdout",
     "output_type": "stream",
     "text": [
      "{1, 2, 3, 4}\n"
     ]
    }
   ],
   "source": [
    "my_set.update([2,3,4]) #add multiple element\n",
    "print(my_set)"
   ]
  },
  {
   "cell_type": "code",
   "execution_count": 5,
   "metadata": {},
   "outputs": [
    {
     "name": "stdout",
     "output_type": "stream",
     "text": [
      "{1, 2, 3, 4, 5, 6, 8}\n"
     ]
    }
   ],
   "source": [
    "my_set.update([4,5] , {1,6,8}) #add list and set\n",
    "print(my_set)"
   ]
  },
  {
   "cell_type": "code",
   "execution_count": 6,
   "metadata": {},
   "outputs": [
    {
     "name": "stdout",
     "output_type": "stream",
     "text": [
      "{1, 3, 4, 5, 6}\n"
     ]
    }
   ],
   "source": [
    "my_set  = {1,3,4,5,6}\n",
    "print(my_set)"
   ]
  },
  {
   "cell_type": "code",
   "execution_count": 7,
   "metadata": {},
   "outputs": [
    {
     "name": "stdout",
     "output_type": "stream",
     "text": [
      "{1, 3, 5, 6}\n"
     ]
    }
   ],
   "source": [
    "my_set.discard(4)\n",
    "print(my_set)"
   ]
  },
  {
   "cell_type": "code",
   "execution_count": 9,
   "metadata": {},
   "outputs": [
    {
     "name": "stdout",
     "output_type": "stream",
     "text": [
      "{1, 3, 5}\n"
     ]
    }
   ],
   "source": [
    "my_set.remove(6)\n",
    "print(my_set)"
   ]
  },
  {
   "cell_type": "code",
   "execution_count": 10,
   "metadata": {},
   "outputs": [
    {
     "name": "stdout",
     "output_type": "stream",
     "text": [
      "{3, 5}\n"
     ]
    }
   ],
   "source": [
    "my_set.pop() #pop a random item\n",
    "print(my_set)"
   ]
  },
  {
   "cell_type": "code",
   "execution_count": 11,
   "metadata": {},
   "outputs": [
    {
     "name": "stdout",
     "output_type": "stream",
     "text": [
      "set()\n"
     ]
    }
   ],
   "source": [
    "my_set.clear()\n",
    "print(my_set)"
   ]
  },
  {
   "cell_type": "code",
   "execution_count": 12,
   "metadata": {},
   "outputs": [],
   "source": [
    "A = {1,2,3,4,5}\n",
    "B = {4,5,6,7,8}"
   ]
  },
  {
   "cell_type": "code",
   "execution_count": 13,
   "metadata": {},
   "outputs": [
    {
     "name": "stdout",
     "output_type": "stream",
     "text": [
      "{1, 2, 3, 4, 5, 6, 7, 8}\n"
     ]
    }
   ],
   "source": [
    "print(A|B)"
   ]
  },
  {
   "cell_type": "code",
   "execution_count": 14,
   "metadata": {},
   "outputs": [
    {
     "data": {
      "text/plain": [
       "{1, 2, 3, 4, 5, 6, 7, 8}"
      ]
     },
     "execution_count": 14,
     "metadata": {},
     "output_type": "execute_result"
    }
   ],
   "source": [
    "A.union(B)"
   ]
  },
  {
   "cell_type": "code",
   "execution_count": 15,
   "metadata": {},
   "outputs": [
    {
     "data": {
      "text/plain": [
       "{1, 2, 3, 4, 5, 6, 7, 8}"
      ]
     },
     "execution_count": 15,
     "metadata": {},
     "output_type": "execute_result"
    }
   ],
   "source": [
    "B.union(A)"
   ]
  },
  {
   "cell_type": "code",
   "execution_count": 16,
   "metadata": {},
   "outputs": [
    {
     "name": "stdout",
     "output_type": "stream",
     "text": [
      "{4, 5}\n"
     ]
    }
   ],
   "source": [
    "print(A&B)"
   ]
  },
  {
   "cell_type": "code",
   "execution_count": 17,
   "metadata": {},
   "outputs": [
    {
     "data": {
      "text/plain": [
       "{4, 5}"
      ]
     },
     "execution_count": 17,
     "metadata": {},
     "output_type": "execute_result"
    }
   ],
   "source": [
    "A.intersection(B)"
   ]
  },
  {
   "cell_type": "code",
   "execution_count": 18,
   "metadata": {},
   "outputs": [
    {
     "name": "stdout",
     "output_type": "stream",
     "text": [
      "{1, 2, 3}\n"
     ]
    }
   ],
   "source": [
    "print(A-B)"
   ]
  },
  {
   "cell_type": "code",
   "execution_count": 19,
   "metadata": {},
   "outputs": [
    {
     "data": {
      "text/plain": [
       "{6, 7, 8}"
      ]
     },
     "execution_count": 19,
     "metadata": {},
     "output_type": "execute_result"
    }
   ],
   "source": [
    "B-A"
   ]
  },
  {
   "cell_type": "code",
   "execution_count": 20,
   "metadata": {},
   "outputs": [
    {
     "data": {
      "text/plain": [
       "{1, 2, 3}"
      ]
     },
     "execution_count": 20,
     "metadata": {},
     "output_type": "execute_result"
    }
   ],
   "source": [
    "A.difference(B)"
   ]
  },
  {
   "cell_type": "code",
   "execution_count": 21,
   "metadata": {},
   "outputs": [
    {
     "name": "stdout",
     "output_type": "stream",
     "text": [
      "{1, 2, 3, 6, 7, 8}\n"
     ]
    }
   ],
   "source": [
    "print(A^B)"
   ]
  },
  {
   "cell_type": "code",
   "execution_count": 22,
   "metadata": {},
   "outputs": [
    {
     "data": {
      "text/plain": [
       "{1, 2, 3, 6, 7, 8}"
      ]
     },
     "execution_count": 22,
     "metadata": {},
     "output_type": "execute_result"
    }
   ],
   "source": [
    "A.symmetric_difference(B)"
   ]
  },
  {
   "cell_type": "code",
   "execution_count": 23,
   "metadata": {},
   "outputs": [],
   "source": [
    "electric1 = {'TV' , 'MOBILE' , 'LAPTOP' , 'GRINDER' , 'MICROWAVE' }\n",
    "electric2 = {'WASHING MACHINE' , 'TV' , 'MOBILE' , 'AC' , 'TOSTER'}\n"
   ]
  },
  {
   "cell_type": "code",
   "execution_count": 24,
   "metadata": {},
   "outputs": [
    {
     "name": "stdout",
     "output_type": "stream",
     "text": [
      "{'MICROWAVE', 'WASHING MACHINE', 'AC', 'GRINDER', 'TOSTER', 'MOBILE', 'TV', 'LAPTOP'}\n"
     ]
    }
   ],
   "source": [
    "print(electric1|electric2)"
   ]
  },
  {
   "cell_type": "code",
   "execution_count": 25,
   "metadata": {},
   "outputs": [
    {
     "name": "stdout",
     "output_type": "stream",
     "text": [
      "{'MOBILE', 'TV'}\n"
     ]
    }
   ],
   "source": [
    "print(electric1&electric2)"
   ]
  },
  {
   "cell_type": "code",
   "execution_count": 26,
   "metadata": {},
   "outputs": [
    {
     "data": {
      "text/plain": [
       "{'GRINDER', 'LAPTOP', 'MICROWAVE'}"
      ]
     },
     "execution_count": 26,
     "metadata": {},
     "output_type": "execute_result"
    }
   ],
   "source": [
    "electric1-electric2"
   ]
  },
  {
   "cell_type": "code",
   "execution_count": 27,
   "metadata": {},
   "outputs": [
    {
     "data": {
      "text/plain": [
       "{'AC', 'TOSTER', 'WASHING MACHINE'}"
      ]
     },
     "execution_count": 27,
     "metadata": {},
     "output_type": "execute_result"
    }
   ],
   "source": [
    "electric2-electric1"
   ]
  },
  {
   "cell_type": "code",
   "execution_count": 28,
   "metadata": {},
   "outputs": [
    {
     "name": "stdout",
     "output_type": "stream",
     "text": [
      "{'LAPTOP', 'TOSTER', 'WASHING MACHINE', 'AC', 'MICROWAVE', 'GRINDER'}\n"
     ]
    }
   ],
   "source": [
    "print(electric1^electric2)"
   ]
  },
  {
   "cell_type": "code",
   "execution_count": 29,
   "metadata": {},
   "outputs": [],
   "source": [
    "my_dict = {1: 'Apple' , 2: 'ball'} #key:value"
   ]
  },
  {
   "cell_type": "code",
   "execution_count": 30,
   "metadata": {},
   "outputs": [],
   "source": [
    "my_dict = {'name' : 'john' , 'age' : '100'}"
   ]
  },
  {
   "cell_type": "code",
   "execution_count": 31,
   "metadata": {},
   "outputs": [
    {
     "name": "stdout",
     "output_type": "stream",
     "text": [
      "john\n"
     ]
    }
   ],
   "source": [
    "print(my_dict['name'])"
   ]
  },
  {
   "cell_type": "code",
   "execution_count": 32,
   "metadata": {},
   "outputs": [
    {
     "name": "stdout",
     "output_type": "stream",
     "text": [
      "100\n"
     ]
    }
   ],
   "source": [
    "print(my_dict.get('age'))"
   ]
  },
  {
   "cell_type": "code",
   "execution_count": 33,
   "metadata": {},
   "outputs": [
    {
     "ename": "KeyError",
     "evalue": "'address'",
     "output_type": "error",
     "traceback": [
      "\u001b[1;31m---------------------------------------------------------------------------\u001b[0m",
      "\u001b[1;31mKeyError\u001b[0m                                  Traceback (most recent call last)",
      "\u001b[1;32mc:\\Users\\mishr\\OneDrive\\Documents\\python-c\\tuple_set_dictionary.ipynb Cell 32'\u001b[0m in \u001b[0;36m<cell line: 1>\u001b[1;34m()\u001b[0m\n\u001b[1;32m----> <a href='vscode-notebook-cell:/c%3A/Users/mishr/OneDrive/Documents/python-c/tuple_set_dictionary.ipynb#ch0000031?line=0'>1</a>\u001b[0m \u001b[39mprint\u001b[39m(my_dict[\u001b[39m'\u001b[39;49m\u001b[39maddress\u001b[39;49m\u001b[39m'\u001b[39;49m])\n",
      "\u001b[1;31mKeyError\u001b[0m: 'address'"
     ]
    }
   ],
   "source": [
    "print(my_dict['address'])"
   ]
  },
  {
   "cell_type": "code",
   "execution_count": 34,
   "metadata": {},
   "outputs": [
    {
     "name": "stdout",
     "output_type": "stream",
     "text": [
      "None\n"
     ]
    }
   ],
   "source": [
    "print(my_dict.get('address'))"
   ]
  },
  {
   "cell_type": "code",
   "execution_count": 35,
   "metadata": {},
   "outputs": [],
   "source": [
    "my_dict['age'] = 101"
   ]
  },
  {
   "cell_type": "code",
   "execution_count": 36,
   "metadata": {},
   "outputs": [],
   "source": [
    "my_dict['address'] = 'downtown'"
   ]
  },
  {
   "cell_type": "code",
   "execution_count": 37,
   "metadata": {},
   "outputs": [
    {
     "name": "stdout",
     "output_type": "stream",
     "text": [
      "{'name': 'john', 'age': 101, 'address': 'downtown'}\n"
     ]
    }
   ],
   "source": [
    "print(my_dict)"
   ]
  },
  {
   "cell_type": "code",
   "execution_count": 38,
   "metadata": {},
   "outputs": [],
   "source": [
    "squares = {1: 1 , 2: 4 , 3 :9  , 4: 16 , 5:25}"
   ]
  },
  {
   "cell_type": "code",
   "execution_count": 40,
   "metadata": {},
   "outputs": [
    {
     "name": "stdout",
     "output_type": "stream",
     "text": [
      "16\n"
     ]
    }
   ],
   "source": [
    "print(squares.pop(4))"
   ]
  },
  {
   "cell_type": "code",
   "execution_count": 41,
   "metadata": {},
   "outputs": [
    {
     "name": "stdout",
     "output_type": "stream",
     "text": [
      "(5, 25)\n"
     ]
    }
   ],
   "source": [
    "print(squares.popitem())"
   ]
  },
  {
   "cell_type": "code",
   "execution_count": 42,
   "metadata": {},
   "outputs": [],
   "source": [
    "squares.clear()"
   ]
  },
  {
   "cell_type": "code",
   "execution_count": 43,
   "metadata": {},
   "outputs": [],
   "source": [
    "del squares #delete from dictionary del is a keyword"
   ]
  },
  {
   "cell_type": "code",
   "execution_count": 44,
   "metadata": {},
   "outputs": [],
   "source": [
    "squares = {1: 1 , 2: 4 , 3 :9  , 4: 16 , 5:25}"
   ]
  },
  {
   "cell_type": "code",
   "execution_count": 45,
   "metadata": {},
   "outputs": [
    {
     "name": "stdout",
     "output_type": "stream",
     "text": [
      "1\n",
      "2\n",
      "3\n",
      "4\n",
      "5\n"
     ]
    }
   ],
   "source": [
    "for i in squares:    #by default using for loop in squares set is returns keys only\n",
    "    print(i)"
   ]
  },
  {
   "cell_type": "code",
   "execution_count": 46,
   "metadata": {},
   "outputs": [
    {
     "name": "stdout",
     "output_type": "stream",
     "text": [
      "1\n",
      "4\n",
      "9\n",
      "16\n",
      "25\n"
     ]
    }
   ],
   "source": [
    "for i in squares:    #by default using for loop in squares set is returns keys only\n",
    "    print(squares[i])"
   ]
  },
  {
   "cell_type": "code",
   "execution_count": 49,
   "metadata": {},
   "outputs": [
    {
     "name": "stdout",
     "output_type": "stream",
     "text": [
      "1 1\n",
      "2 4\n",
      "3 9\n",
      "4 16\n",
      "5 25\n"
     ]
    }
   ],
   "source": [
    "for k,v in squares.items(): #k,v gives bot key and value\n",
    "    print(k,v)"
   ]
  },
  {
   "cell_type": "code",
   "execution_count": 50,
   "metadata": {},
   "outputs": [],
   "source": [
    "score = {'science' : 45 , 'maths' : 50 , 'hindi' : 49 , 'english' : 47 ,'arts' : 50 }"
   ]
  },
  {
   "cell_type": "code",
   "execution_count": 52,
   "metadata": {},
   "outputs": [
    {
     "name": "stdout",
     "output_type": "stream",
     "text": [
      "50\n"
     ]
    }
   ],
   "source": [
    "print(score.pop('maths'))"
   ]
  },
  {
   "cell_type": "code",
   "execution_count": 54,
   "metadata": {},
   "outputs": [
    {
     "name": "stdout",
     "output_type": "stream",
     "text": [
      "('arts', 50)\n"
     ]
    }
   ],
   "source": [
    "print(score.popitem())"
   ]
  },
  {
   "cell_type": "code",
   "execution_count": 55,
   "metadata": {},
   "outputs": [
    {
     "name": "stdout",
     "output_type": "stream",
     "text": [
      "science 45\n",
      "hindi 49\n",
      "english 47\n"
     ]
    }
   ],
   "source": [
    "for j,h in score.items():\n",
    "    print(j,h)"
   ]
  },
  {
   "cell_type": "code",
   "execution_count": 56,
   "metadata": {},
   "outputs": [],
   "source": [
    "student = {\n",
    "    'amit' : {'eng' :90 , 'math' : 89 , 'sci' : 78 , 'hindi' : 65 , 'evs' : 89},\n",
    "    'raj' : {'eng' :95 , 'math' : 82 , 'sci' : 89 , 'hindi' : 78 , 'evs' : 56},\n",
    "    'ck' : {'eng' :99 , 'math' : 56 , 'sci' : 78 , 'hindi' : 89 , 'evs' : 85},\n",
    "}"
   ]
  },
  {
   "cell_type": "code",
   "execution_count": 57,
   "metadata": {},
   "outputs": [
    {
     "data": {
      "text/plain": [
       "{'eng': 95, 'math': 82, 'sci': 89, 'hindi': 78, 'evs': 56}"
      ]
     },
     "execution_count": 57,
     "metadata": {},
     "output_type": "execute_result"
    }
   ],
   "source": [
    "student['raj']"
   ]
  },
  {
   "cell_type": "code",
   "execution_count": 59,
   "metadata": {},
   "outputs": [
    {
     "data": {
      "text/plain": [
       "78"
      ]
     },
     "execution_count": 59,
     "metadata": {},
     "output_type": "execute_result"
    }
   ],
   "source": [
    "student['raj']['hindi']"
   ]
  },
  {
   "cell_type": "code",
   "execution_count": 60,
   "metadata": {},
   "outputs": [
    {
     "name": "stdout",
     "output_type": "stream",
     "text": [
      "amit\n",
      "=> eng : {'eng': 90, 'math': 89, 'sci': 78, 'hindi': 65, 'evs': 89}\n",
      "=> math : {'eng': 90, 'math': 89, 'sci': 78, 'hindi': 65, 'evs': 89}\n",
      "=> sci : {'eng': 90, 'math': 89, 'sci': 78, 'hindi': 65, 'evs': 89}\n",
      "=> hindi : {'eng': 90, 'math': 89, 'sci': 78, 'hindi': 65, 'evs': 89}\n",
      "=> evs : {'eng': 90, 'math': 89, 'sci': 78, 'hindi': 65, 'evs': 89}\n",
      "--------------------\n",
      "raj\n",
      "=> eng : {'eng': 95, 'math': 82, 'sci': 89, 'hindi': 78, 'evs': 56}\n",
      "=> math : {'eng': 95, 'math': 82, 'sci': 89, 'hindi': 78, 'evs': 56}\n",
      "=> sci : {'eng': 95, 'math': 82, 'sci': 89, 'hindi': 78, 'evs': 56}\n",
      "=> hindi : {'eng': 95, 'math': 82, 'sci': 89, 'hindi': 78, 'evs': 56}\n",
      "=> evs : {'eng': 95, 'math': 82, 'sci': 89, 'hindi': 78, 'evs': 56}\n",
      "--------------------\n",
      "ck\n",
      "=> eng : {'eng': 99, 'math': 56, 'sci': 78, 'hindi': 89, 'evs': 85}\n",
      "=> math : {'eng': 99, 'math': 56, 'sci': 78, 'hindi': 89, 'evs': 85}\n",
      "=> sci : {'eng': 99, 'math': 56, 'sci': 78, 'hindi': 89, 'evs': 85}\n",
      "=> hindi : {'eng': 99, 'math': 56, 'sci': 78, 'hindi': 89, 'evs': 85}\n",
      "=> evs : {'eng': 99, 'math': 56, 'sci': 78, 'hindi': 89, 'evs': 85}\n",
      "--------------------\n"
     ]
    }
   ],
   "source": [
    "for name , marks in student.items():\n",
    "    print(name)\n",
    "    for sub, mark in marks.items():\n",
    "        print(f'=> {sub} : {marks}')\n",
    "    print('-'*20)"
   ]
  },
  {
   "cell_type": "code",
   "execution_count": 64,
   "metadata": {},
   "outputs": [
    {
     "name": "stdout",
     "output_type": "stream",
     "text": [
      "students : amit\n",
      "=> eng : {'eng': 90, 'math': 89, 'sci': 78, 'hindi': 65, 'evs': 89}\n",
      "=> math : {'eng': 90, 'math': 89, 'sci': 78, 'hindi': 65, 'evs': 89}\n",
      "=> sci : {'eng': 90, 'math': 89, 'sci': 78, 'hindi': 65, 'evs': 89}\n",
      "=> hindi : {'eng': 90, 'math': 89, 'sci': 78, 'hindi': 65, 'evs': 89}\n",
      "=> evs : {'eng': 90, 'math': 89, 'sci': 78, 'hindi': 65, 'evs': 89}\n",
      "--------------------\n",
      "students : raj\n",
      "=> eng : {'eng': 95, 'math': 82, 'sci': 89, 'hindi': 78, 'evs': 56}\n",
      "=> math : {'eng': 95, 'math': 82, 'sci': 89, 'hindi': 78, 'evs': 56}\n",
      "=> sci : {'eng': 95, 'math': 82, 'sci': 89, 'hindi': 78, 'evs': 56}\n",
      "=> hindi : {'eng': 95, 'math': 82, 'sci': 89, 'hindi': 78, 'evs': 56}\n",
      "=> evs : {'eng': 95, 'math': 82, 'sci': 89, 'hindi': 78, 'evs': 56}\n",
      "--------------------\n",
      "students : ck\n",
      "=> eng : {'eng': 99, 'math': 56, 'sci': 78, 'hindi': 89, 'evs': 85}\n",
      "=> math : {'eng': 99, 'math': 56, 'sci': 78, 'hindi': 89, 'evs': 85}\n",
      "=> sci : {'eng': 99, 'math': 56, 'sci': 78, 'hindi': 89, 'evs': 85}\n",
      "=> hindi : {'eng': 99, 'math': 56, 'sci': 78, 'hindi': 89, 'evs': 85}\n",
      "=> evs : {'eng': 99, 'math': 56, 'sci': 78, 'hindi': 89, 'evs': 85}\n",
      "--------------------\n"
     ]
    }
   ],
   "source": [
    "for name , marks in student.items():\n",
    "    print(\"students :\" , name)\n",
    "    for sub, mark in marks.items():\n",
    "        print(f'=> {sub} : {marks}')\n",
    "    print('-'*20)"
   ]
  },
  {
   "cell_type": "code",
   "execution_count": null,
   "metadata": {},
   "outputs": [],
   "source": []
  }
 ],
 "metadata": {
  "kernelspec": {
   "display_name": "Python 3.9.12 ('base')",
   "language": "python",
   "name": "python3"
  },
  "language_info": {
   "codemirror_mode": {
    "name": "ipython",
    "version": 3
   },
   "file_extension": ".py",
   "mimetype": "text/x-python",
   "name": "python",
   "nbconvert_exporter": "python",
   "pygments_lexer": "ipython3",
   "version": "3.9.12"
  },
  "orig_nbformat": 4,
  "vscode": {
   "interpreter": {
    "hash": "8793e0e0d06b875b764fefddb5e15785ea9b5e7bba2da62ae2011f76e81c9b5f"
   }
  }
 },
 "nbformat": 4,
 "nbformat_minor": 2
}
