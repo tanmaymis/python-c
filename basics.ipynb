{
 "cells": [
  {
   "cell_type": "code",
   "execution_count": null,
   "metadata": {},
   "outputs": [
    {
     "ename": "",
     "evalue": "",
     "output_type": "error",
     "traceback": [
      "\u001b[1;31mRunning cells with 'Python 3.9.12 ('base')' requires ipykernel package.\n",
      "Run the following command to install 'ipykernel' into the Python environment. \n",
      "Command: 'conda install -n base ipykernel --update-deps --force-reinstall'"
     ]
    }
   ],
   "source": [
    "2+2"
   ]
  },
  {
   "cell_type": "code",
   "execution_count": null,
   "metadata": {},
   "outputs": [
    {
     "ename": "",
     "evalue": "",
     "output_type": "error",
     "traceback": [
      "\u001b[1;31mFailed to start the Kernel. \n",
      "Kernel base (Python 3.9.12) is not usable. Check the Jupyter output tab for more information. \n",
      "View Jupyter <a href='command:jupyter.viewOutput'>log</a> for further details."
     ]
    }
   ],
   "source": [
    "2+2"
   ]
  },
  {
   "cell_type": "code",
   "execution_count": 1,
   "metadata": {},
   "outputs": [
    {
     "data": {
      "text/plain": [
       "4"
      ]
     },
     "execution_count": 1,
     "metadata": {},
     "output_type": "execute_result"
    }
   ],
   "source": [
    "2+2"
   ]
  },
  {
   "cell_type": "code",
   "execution_count": 2,
   "metadata": {},
   "outputs": [],
   "source": [
    "name = input('enter your name :')\n",
    "age = input('enter your age :')\n",
    "school = input(\"enter your school name :\")\n"
   ]
  },
  {
   "cell_type": "code",
   "execution_count": 4,
   "metadata": {},
   "outputs": [
    {
     "data": {
      "text/plain": [
       "int"
      ]
     },
     "execution_count": 4,
     "metadata": {},
     "output_type": "execute_result"
    }
   ],
   "source": [
    "age = input(\"enter your age :\")\n",
    "age = int(age)\n",
    "type(age)"
   ]
  },
  {
   "cell_type": "code",
   "execution_count": 13,
   "metadata": {},
   "outputs": [
    {
     "data": {
      "text/plain": [
       "'100-90'"
      ]
     },
     "execution_count": 13,
     "metadata": {},
     "output_type": "execute_result"
    }
   ],
   "source": [
    "x = '100'\n",
    "y = '-90'\n",
    "x + y"
   ]
  },
  {
   "cell_type": "code",
   "execution_count": 14,
   "metadata": {},
   "outputs": [
    {
     "data": {
      "text/plain": [
       "'100-90'"
      ]
     },
     "execution_count": 14,
     "metadata": {},
     "output_type": "execute_result"
    }
   ],
   "source": [
    "x + y"
   ]
  },
  {
   "cell_type": "code",
   "execution_count": 15,
   "metadata": {},
   "outputs": [
    {
     "data": {
      "text/plain": [
       "10"
      ]
     },
     "execution_count": 15,
     "metadata": {},
     "output_type": "execute_result"
    }
   ],
   "source": [
    "x = int(x)\n",
    "y = int(y)\n",
    "x + y"
   ]
  },
  {
   "cell_type": "code",
   "execution_count": 16,
   "metadata": {},
   "outputs": [
    {
     "data": {
      "text/plain": [
       "float"
      ]
     },
     "execution_count": 16,
     "metadata": {},
     "output_type": "execute_result"
    }
   ],
   "source": [
    "z=1.3223\n",
    "z1=int(z)\n",
    "z\n",
    "type(z)\n"
   ]
  },
  {
   "cell_type": "code",
   "execution_count": 17,
   "metadata": {},
   "outputs": [
    {
     "data": {
      "text/plain": [
       "str"
      ]
     },
     "execution_count": 17,
     "metadata": {},
     "output_type": "execute_result"
    }
   ],
   "source": [
    "a=input(' your name >>>')\n",
    "type(a)"
   ]
  },
  {
   "cell_type": "code",
   "execution_count": 18,
   "metadata": {},
   "outputs": [
    {
     "data": {
      "text/plain": [
       "str"
      ]
     },
     "execution_count": 18,
     "metadata": {},
     "output_type": "execute_result"
    }
   ],
   "source": [
    "b = (\"age of tiger\")\n",
    "type(b)"
   ]
  },
  {
   "cell_type": "code",
   "execution_count": 4,
   "metadata": {},
   "outputs": [
    {
     "name": "stdout",
     "output_type": "stream",
     "text": [
      "Your name: tanmay\n",
      "Your name: lucknow\n",
      "Your favourite food : momo\n",
      "Your favourite movie : rrr\n",
      "Your favourite book : harry potter\n"
     ]
    }
   ],
   "source": [
    "name = input(\"enter your name :\")\n",
    "city = input(\"enter you city :\")\n",
    "fav_food = input(\"enter you favourite food :\") \n",
    "fav_movie = input(\"enter you favourite movie :\")\n",
    "fav_book = input(\"enter you favourite book :\")\n",
    "\n",
    "print(f'Your name: {name}')\n",
    "print(f'Your city: {city}')\n",
    "print(f'Your favourite food : {fav_food}')\n",
    "print(f'Your favourite movie : {fav_movie}')\n",
    "print(f'Your favourite book : {fav_book}')"
   ]
  },
  {
   "cell_type": "code",
   "execution_count": 6,
   "metadata": {},
   "outputs": [
    {
     "name": "stdout",
     "output_type": "stream",
     "text": [
      "456 + 852 = 1308\n"
     ]
    }
   ],
   "source": [
    "num1 = int(input(\"enter a number :\"))\n",
    "num2 = int(input(\"enter another number :\"))\n",
    "num3 = num1 + num2\n",
    "print(f'{num1} + {num2} = {num3}')"
   ]
  },
  {
   "cell_type": "code",
   "execution_count": 7,
   "metadata": {},
   "outputs": [
    {
     "name": "stdout",
     "output_type": "stream",
     "text": [
      "741 + 852 + 963 + 789 + 456 = 3801\n"
     ]
    }
   ],
   "source": [
    "num1 = int(input(\"enter a number :\"))\n",
    "num2 = int(input(\"enter another number :\"))\n",
    "num3 = int(input(\"enter another number :\"))\n",
    "num4 = int(input(\"enter another number :\"))\n",
    "num5 = int(input(\"enter another number :\"))\n",
    "\n",
    "num6 = num1 + num2 + num3 + num4 + num5 \n",
    "print(f'{num1} + {num2} + {num3} + {num4} + {num5} = {num6}')"
   ]
  },
  {
   "cell_type": "code",
   "execution_count": 9,
   "metadata": {},
   "outputs": [
    {
     "name": "stdout",
     "output_type": "stream",
     "text": [
      "hypotenues :6.4031242374328485\n"
     ]
    }
   ],
   "source": [
    "p = float(input(\"enter a number :\"))\n",
    "b = float(input(\"enter another number :\"))\n",
    "h = (p**2 + b**2) ** 0.5\n",
    "print(f'hypotenues :{h}')\n",
    " "
   ]
  },
  {
   "cell_type": "code",
   "execution_count": 11,
   "metadata": {},
   "outputs": [
    {
     "name": "stdout",
     "output_type": "stream",
     "text": [
      "simple interest : 1.2\n"
     ]
    }
   ],
   "source": [
    "p= float(input(\"enter a number :\"))\n",
    "r= float(input(\"enter another number :\"))\n",
    "t= int(input(\"enter another number :\"))\n",
    "SI = (p * r * t)/100\n",
    "print(f'simple interest : {SI}')\n"
   ]
  },
  {
   "cell_type": "code",
   "execution_count": 12,
   "metadata": {},
   "outputs": [
    {
     "name": "stdout",
     "output_type": "stream",
     "text": [
      "you see a apple seller\n",
      "you dont purchase apple\n"
     ]
    }
   ],
   "source": [
    "print('you see a apple seller')\n",
    "q = input('do you like apple')\n",
    "\n",
    "if q == 'yes' :\n",
    "    print('purchase 2 kg apple')\n",
    "if q == 'no' :\n",
    "    print('you dont purchase apple')"
   ]
  },
  {
   "cell_type": "code",
   "execution_count": 25,
   "metadata": {},
   "outputs": [
    {
     "name": "stdout",
     "output_type": "stream",
     "text": [
      "the end\n"
     ]
    }
   ],
   "source": [
    "x = -5\n",
    "if x>5 :\n",
    "    print('x is greater than 5')\n",
    "    print('this is the info we needed')\n",
    "    print('with this power , comes great responsibility')\n",
    "print('the end')"
   ]
  },
  {
   "cell_type": "code",
   "execution_count": 24,
   "metadata": {},
   "outputs": [
    {
     "name": "stdout",
     "output_type": "stream",
     "text": [
      "wear shorts.\n",
      "get some exercise outside.\n"
     ]
    }
   ],
   "source": [
    "temp = float(input('what is the temperature'))\n",
    "if temp > 70 :\n",
    "    print('wear shorts.')\n",
    "else:\n",
    "    print('wear long pants')\n",
    "print('get some exercise outside.')"
   ]
  },
  {
   "cell_type": "code",
   "execution_count": 27,
   "metadata": {},
   "outputs": [
    {
     "name": "stdout",
     "output_type": "stream",
     "text": [
      "f\n"
     ]
    }
   ],
   "source": [
    "score = int(input('your score - >'))\n",
    "if score >= 90:\n",
    "    letter = 'a'\n",
    "elif score >= 80:\n",
    "    letter = 'b'\n",
    "elif score >= 70:\n",
    "    letter = 'c'\n",
    "elif score >=60:\n",
    "    letter = 'd'\n",
    "else:\n",
    "    letter = 'f'\n",
    "print(letter)"
   ]
  }
 ],
 "metadata": {
  "interpreter": {
   "hash": "f367036ff2dc7753af6d3ac4bd46e2b0d19a5e1ec2bf4ca08d7b0df24fda99ad"
  },
  "kernelspec": {
   "display_name": "Python 3.9.12 ('base')",
   "language": "python",
   "name": "python3"
  },
  "language_info": {
   "codemirror_mode": {
    "name": "ipython",
    "version": 3
   },
   "file_extension": ".py",
   "mimetype": "text/x-python",
   "name": "python",
   "nbconvert_exporter": "python",
   "pygments_lexer": "ipython3",
   "version": "3.9.12"
  },
  "orig_nbformat": 4
 },
 "nbformat": 4,
 "nbformat_minor": 2
}
