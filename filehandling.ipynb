{
 "cells": [
  {
   "cell_type": "code",
   "execution_count": null,
   "metadata": {},
   "outputs": [],
   "source": [
    "#Reading a file"
   ]
  },
  {
   "cell_type": "code",
   "execution_count": null,
   "metadata": {},
   "outputs": [],
   "source": [
    "f = open('example3.py') #load file into a variable\n",
    "content = f.read() #read the file\n",
    "f.close() #close the file"
   ]
  },
  {
   "cell_type": "code",
   "execution_count": null,
   "metadata": {},
   "outputs": [],
   "source": [
    "print(content)"
   ]
  },
  {
   "cell_type": "code",
   "execution_count": null,
   "metadata": {},
   "outputs": [],
   "source": [
    "with open('example4.py') as file:\n",
    "    print(file.read())"
   ]
  },
  {
   "cell_type": "code",
   "execution_count": null,
   "metadata": {},
   "outputs": [],
   "source": [
    "f2 = open(r'C:/Users/mishr/Downloads/download.jpg' , 'rb') #rb is read binary file\n",
    "print(f2.read())\n",
    "f2.close()"
   ]
  },
  {
   "cell_type": "markdown",
   "metadata": {},
   "source": [
    "writing content in a file"
   ]
  },
  {
   "cell_type": "code",
   "execution_count": 6,
   "metadata": {},
   "outputs": [],
   "source": [
    "kahani = \"once upon a time in mumbai, there was a ghost , whose name is baba chalu\"\n",
    "file = open('kahani1.txt' , 'w')\n",
    "file.write(kahani)\n",
    "file.close() #save the file"
   ]
  },
  {
   "cell_type": "code",
   "execution_count": 8,
   "metadata": {},
   "outputs": [],
   "source": [
    "info = input(\"enter the info\")\n",
    "with open('info.txt', 'w') as f:\n",
    "    f.write(info)\n",
    "    f.write('\\n')\n",
    "    f.write('author\\n')\n",
    "    f.write('tanmay mishra')"
   ]
  },
  {
   "cell_type": "markdown",
   "metadata": {},
   "source": [
    "adding content to a file"
   ]
  },
  {
   "cell_type": "code",
   "execution_count": null,
   "metadata": {},
   "outputs": [],
   "source": [
    "data =input(\"enter the content\")\n",
    "with open('kahani1.txt' , 'a') as f:\n",
    "    f.write(\"\\n\"+data)"
   ]
  }
 ],
 "metadata": {
  "kernelspec": {
   "display_name": "Python 3.9.12 ('base')",
   "language": "python",
   "name": "python3"
  },
  "language_info": {
   "codemirror_mode": {
    "name": "ipython",
    "version": 3
   },
   "file_extension": ".py",
   "mimetype": "text/x-python",
   "name": "python",
   "nbconvert_exporter": "python",
   "pygments_lexer": "ipython3",
   "version": "3.9.12"
  },
  "orig_nbformat": 4,
  "vscode": {
   "interpreter": {
    "hash": "8793e0e0d06b875b764fefddb5e15785ea9b5e7bba2da62ae2011f76e81c9b5f"
   }
  }
 },
 "nbformat": 4,
 "nbformat_minor": 2
}
